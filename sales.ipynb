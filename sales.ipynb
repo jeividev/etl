{
 "cells": [
  {
   "cell_type": "code",
   "id": "4c91e7e4",
   "metadata": {
    "ExecuteTime": {
     "end_time": "2025-08-29T09:46:59.079053Z",
     "start_time": "2025-08-29T09:46:57.708362Z"
    }
   },
   "source": [
    "import pandas as pd\n",
    "\n",
    "df = pd.read_excel('./data/Sales.xlsx', sheet_name='Sheet1')"
   ],
   "outputs": [],
   "execution_count": 1
  },
  {
   "cell_type": "code",
   "id": "61b44d37",
   "metadata": {
    "ExecuteTime": {
     "end_time": "2025-08-29T09:46:59.247215Z",
     "start_time": "2025-08-29T09:46:59.217886Z"
    }
   },
   "source": [
    "# Quantidade de colunas e registros\n",
    "df.shape"
   ],
   "outputs": [
    {
     "data": {
      "text/plain": [
       "(2000, 10)"
      ]
     },
     "execution_count": 2,
     "metadata": {},
     "output_type": "execute_result"
    }
   ],
   "execution_count": 2
  },
  {
   "cell_type": "code",
   "id": "03599e64",
   "metadata": {
    "ExecuteTime": {
     "end_time": "2025-08-29T09:46:59.538540Z",
     "start_time": "2025-08-29T09:46:59.528547Z"
    }
   },
   "source": [
    "#Colunas\n",
    "df.columns.values"
   ],
   "outputs": [
    {
     "data": {
      "text/plain": [
       "array(['Date', 'Region', 'Product', 'Salesperson', 'Units_Sold',\n",
       "       'Unit_Price', 'Category', 'Revenue', 'Cost', 'Profit'],\n",
       "      dtype=object)"
      ]
     },
     "execution_count": 3,
     "metadata": {},
     "output_type": "execute_result"
    }
   ],
   "execution_count": 3
  },
  {
   "cell_type": "code",
   "id": "6518cbfb",
   "metadata": {
    "ExecuteTime": {
     "end_time": "2025-08-29T09:47:00.005557Z",
     "start_time": "2025-08-29T09:46:59.976813Z"
    }
   },
   "source": [
    "# Head\n",
    "df.head()"
   ],
   "outputs": [
    {
     "data": {
      "text/plain": [
       "        Date Region     Product Salesperson  Units_Sold  Unit_Price  \\\n",
       "0 2024-04-12  North  Smartwatch      Hannah        15.0      1224.0   \n",
       "1 2024-12-14  North     Monitor         Eva         5.0      1321.0   \n",
       "2 2024-09-27  North      Mobile         Bob        11.0       912.0   \n",
       "3 2024-04-16   West     Monitor     Charlie        18.0       325.0   \n",
       "4 2024-03-12   West  Headphones         Eva        13.0      1042.0   \n",
       "\n",
       "      Category  Revenue          Cost       Profit  \n",
       "0  Accessories  18360.0  16451.634258  1908.365742  \n",
       "1       Office   6605.0   4457.351727  2147.648273  \n",
       "2  Electronics  10032.0   6563.644126  3468.355874  \n",
       "3       Office   5850.0   4320.807092  1529.192908  \n",
       "4  Accessories  13546.0   8270.122666  5275.877334  "
      ],
      "text/html": [
       "<div>\n",
       "<style scoped>\n",
       "    .dataframe tbody tr th:only-of-type {\n",
       "        vertical-align: middle;\n",
       "    }\n",
       "\n",
       "    .dataframe tbody tr th {\n",
       "        vertical-align: top;\n",
       "    }\n",
       "\n",
       "    .dataframe thead th {\n",
       "        text-align: right;\n",
       "    }\n",
       "</style>\n",
       "<table border=\"1\" class=\"dataframe\">\n",
       "  <thead>\n",
       "    <tr style=\"text-align: right;\">\n",
       "      <th></th>\n",
       "      <th>Date</th>\n",
       "      <th>Region</th>\n",
       "      <th>Product</th>\n",
       "      <th>Salesperson</th>\n",
       "      <th>Units_Sold</th>\n",
       "      <th>Unit_Price</th>\n",
       "      <th>Category</th>\n",
       "      <th>Revenue</th>\n",
       "      <th>Cost</th>\n",
       "      <th>Profit</th>\n",
       "    </tr>\n",
       "  </thead>\n",
       "  <tbody>\n",
       "    <tr>\n",
       "      <th>0</th>\n",
       "      <td>2024-04-12</td>\n",
       "      <td>North</td>\n",
       "      <td>Smartwatch</td>\n",
       "      <td>Hannah</td>\n",
       "      <td>15.0</td>\n",
       "      <td>1224.0</td>\n",
       "      <td>Accessories</td>\n",
       "      <td>18360.0</td>\n",
       "      <td>16451.634258</td>\n",
       "      <td>1908.365742</td>\n",
       "    </tr>\n",
       "    <tr>\n",
       "      <th>1</th>\n",
       "      <td>2024-12-14</td>\n",
       "      <td>North</td>\n",
       "      <td>Monitor</td>\n",
       "      <td>Eva</td>\n",
       "      <td>5.0</td>\n",
       "      <td>1321.0</td>\n",
       "      <td>Office</td>\n",
       "      <td>6605.0</td>\n",
       "      <td>4457.351727</td>\n",
       "      <td>2147.648273</td>\n",
       "    </tr>\n",
       "    <tr>\n",
       "      <th>2</th>\n",
       "      <td>2024-09-27</td>\n",
       "      <td>North</td>\n",
       "      <td>Mobile</td>\n",
       "      <td>Bob</td>\n",
       "      <td>11.0</td>\n",
       "      <td>912.0</td>\n",
       "      <td>Electronics</td>\n",
       "      <td>10032.0</td>\n",
       "      <td>6563.644126</td>\n",
       "      <td>3468.355874</td>\n",
       "    </tr>\n",
       "    <tr>\n",
       "      <th>3</th>\n",
       "      <td>2024-04-16</td>\n",
       "      <td>West</td>\n",
       "      <td>Monitor</td>\n",
       "      <td>Charlie</td>\n",
       "      <td>18.0</td>\n",
       "      <td>325.0</td>\n",
       "      <td>Office</td>\n",
       "      <td>5850.0</td>\n",
       "      <td>4320.807092</td>\n",
       "      <td>1529.192908</td>\n",
       "    </tr>\n",
       "    <tr>\n",
       "      <th>4</th>\n",
       "      <td>2024-03-12</td>\n",
       "      <td>West</td>\n",
       "      <td>Headphones</td>\n",
       "      <td>Eva</td>\n",
       "      <td>13.0</td>\n",
       "      <td>1042.0</td>\n",
       "      <td>Accessories</td>\n",
       "      <td>13546.0</td>\n",
       "      <td>8270.122666</td>\n",
       "      <td>5275.877334</td>\n",
       "    </tr>\n",
       "  </tbody>\n",
       "</table>\n",
       "</div>"
      ]
     },
     "execution_count": 4,
     "metadata": {},
     "output_type": "execute_result"
    }
   ],
   "execution_count": 4
  },
  {
   "metadata": {
    "ExecuteTime": {
     "end_time": "2025-08-29T09:58:55.307044Z",
     "start_time": "2025-08-29T09:58:55.298379Z"
    }
   },
   "cell_type": "code",
   "source": [
    "# Column types\n",
    "print(df.info())\n",
    "\n",
    "# Missing values by column\n",
    "print(df.isna().sum())"
   ],
   "id": "10aff40f6507dcda",
   "outputs": [
    {
     "name": "stdout",
     "output_type": "stream",
     "text": [
      "<class 'pandas.core.frame.DataFrame'>\n",
      "RangeIndex: 2000 entries, 0 to 1999\n",
      "Data columns (total 10 columns):\n",
      " #   Column       Non-Null Count  Dtype         \n",
      "---  ------       --------------  -----         \n",
      " 0   Date         2000 non-null   datetime64[ns]\n",
      " 1   Region       1961 non-null   object        \n",
      " 2   Product      1960 non-null   object        \n",
      " 3   Salesperson  1960 non-null   object        \n",
      " 4   Units_Sold   1960 non-null   float64       \n",
      " 5   Unit_Price   1960 non-null   float64       \n",
      " 6   Category     2000 non-null   object        \n",
      " 7   Revenue      1921 non-null   float64       \n",
      " 8   Cost         1921 non-null   float64       \n",
      " 9   Profit       1921 non-null   float64       \n",
      "dtypes: datetime64[ns](1), float64(5), object(4)\n",
      "memory usage: 156.4+ KB\n",
      "None\n",
      "Date            0\n",
      "Region         39\n",
      "Product        40\n",
      "Salesperson    40\n",
      "Units_Sold     40\n",
      "Unit_Price     40\n",
      "Category        0\n",
      "Revenue        79\n",
      "Cost           79\n",
      "Profit         79\n",
      "dtype: int64\n"
     ]
    }
   ],
   "execution_count": 17
  },
  {
   "metadata": {
    "ExecuteTime": {
     "end_time": "2025-08-29T10:23:04.453637Z",
     "start_time": "2025-08-29T10:23:04.438390Z"
    }
   },
   "cell_type": "code",
   "source": [
    "print(df.describe())   # For numeric columns\n",
    "print(df[\"Category\"].value_counts())  # Frequency by category"
   ],
   "id": "c671c51cd04ab809",
   "outputs": [
    {
     "name": "stdout",
     "output_type": "stream",
     "text": [
      "                             Date   Units_Sold   Unit_Price       Revenue  \\\n",
      "count                        2000  2000.000000  2000.000000   1921.000000   \n",
      "mean   2024-07-01 16:25:40.800000     9.887500  1040.876500  10785.823529   \n",
      "min           2024-01-01 00:00:00    -5.000000  -100.000000  -8975.000000   \n",
      "25%           2024-04-04 00:00:00     5.000000   553.750000   3597.000000   \n",
      "50%           2024-07-01 00:00:00    10.000000  1048.000000   8268.000000   \n",
      "75%           2024-10-03 00:00:00    15.000000  1507.500000  16461.000000   \n",
      "max           2024-12-31 00:00:00    19.000000  1997.000000  37715.000000   \n",
      "std                           NaN     5.722431   560.054177   8722.447605   \n",
      "\n",
      "               Cost        Profit  \n",
      "count   1921.000000   1921.000000  \n",
      "mean    8065.726146   2720.097383  \n",
      "min    -7905.695724  -1069.304276  \n",
      "25%     2665.613741    784.467841  \n",
      "50%     6014.593046   1928.596208  \n",
      "75%    12152.488896   3936.337721  \n",
      "max    31723.724915  14409.770718  \n",
      "std     6645.827102   2502.678468  \n",
      "Category\n",
      "Electronics    1013\n",
      "Accessories     506\n",
      "Office          481\n",
      "Name: count, dtype: int64\n"
     ]
    }
   ],
   "execution_count": 53
  },
  {
   "metadata": {
    "ExecuteTime": {
     "end_time": "2025-08-29T10:23:01.002618Z",
     "start_time": "2025-08-29T10:23:00.997798Z"
    }
   },
   "cell_type": "code",
   "source": [
    "df['Units_Sold'] = df['Units_Sold'].fillna(0)\n",
    "df['Unit_Price'] = df['Unit_Price'].fillna(0)"
   ],
   "id": "f6f5ffc1879baf21",
   "outputs": [],
   "execution_count": 52
  },
  {
   "metadata": {
    "ExecuteTime": {
     "end_time": "2025-08-29T10:03:48.473274Z",
     "start_time": "2025-08-29T10:03:48.470340Z"
    }
   },
   "cell_type": "code",
   "source": "import matplotlib.pyplot as plt",
   "id": "8d688c4d2f77db66",
   "outputs": [],
   "execution_count": 20
  },
  {
   "metadata": {
    "ExecuteTime": {
     "end_time": "2025-08-29T10:23:08.323049Z",
     "start_time": "2025-08-29T10:23:08.213430Z"
    }
   },
   "cell_type": "code",
   "source": [
    "# Outliers Units_Sold\n",
    "\n",
    "plt.boxplot(df[\"Units_Sold\"].dropna())\n",
    "plt.xticks(rotation=0)\n",
    "plt.yticks(rotation=0)\n",
    "plt.title('Units Sold')\n",
    "plt.ylabel(\"Units\")"
   ],
   "id": "812fc75fb3d78df4",
   "outputs": [
    {
     "data": {
      "text/plain": [
       "Text(0, 0.5, 'Units')"
      ]
     },
     "execution_count": 54,
     "metadata": {},
     "output_type": "execute_result"
    },
    {
     "data": {
      "text/plain": [
       "<Figure size 640x480 with 1 Axes>"
      ],
      "image/png": "[encoded data removed]"
     },
     "metadata": {},
     "output_type": "display_data"
    }
   ],
   "execution_count": 54
  },
  {
   "metadata": {
    "ExecuteTime": {
     "end_time": "2025-08-29T10:23:12.205866Z",
     "start_time": "2025-08-29T10:23:12.123912Z"
    }
   },
   "cell_type": "code",
   "source": [
    "# Outliers Unit_Price\n",
    "\n",
    "plt.boxplot(df['Unit_Price'].dropna())\n",
    "plt.xticks(rotation=0)\n",
    "plt.yticks(rotation=0)\n",
    "plt.title('Units Price')\n",
    "plt.ylabel(\"Price\")"
   ],
   "id": "bab923e0f000a037",
   "outputs": [
    {
     "data": {
      "text/plain": [
       "Text(0, 0.5, 'Price')"
      ]
     },
     "execution_count": 55,
     "metadata": {},
     "output_type": "execute_result"
    },
    {
     "data": {
      "text/plain": [
       "<Figure size 640x480 with 1 Axes>"
      ],
      "image/png": "[encoded data removed]"
     },
     "metadata": {},
     "output_type": "display_data"
    }
   ],
   "execution_count": 55
  },
  {
   "metadata": {
    "ExecuteTime": {
     "end_time": "2025-08-29T10:27:18.863066Z",
     "start_time": "2025-08-29T10:27:18.852296Z"
    }
   },
   "cell_type": "code",
   "source": [
    "# df.loc[df['Units_Sold'] == 0]\n",
    "\n",
    "df.loc[(df['Product'] == 'Tablet') & (df['Salesperson'] == 'Hannah') & (df['Region'] == 'South')]"
   ],
   "id": "5ebae35a538f91d2",
   "outputs": [
    {
     "data": {
      "text/plain": [
       "           Date Region Product Salesperson  Units_Sold  Unit_Price  \\\n",
       "34   2024-07-08  South  Tablet      Hannah         0.0       387.0   \n",
       "181  2024-07-16  South  Tablet      Hannah        13.0      1993.0   \n",
       "302  2024-10-30  South  Tablet      Hannah         3.0       383.0   \n",
       "459  2024-03-09  South  Tablet      Hannah         6.0      1115.0   \n",
       "920  2024-01-25  South  Tablet      Hannah         9.0       850.0   \n",
       "925  2024-05-25  South  Tablet      Hannah        11.0      1094.0   \n",
       "1034 2024-11-15  South  Tablet      Hannah        10.0       693.0   \n",
       "1060 2024-10-14  South  Tablet      Hannah        10.0      1447.0   \n",
       "1085 2024-02-07  South  Tablet      Hannah        13.0       805.0   \n",
       "1293 2024-10-29  South  Tablet      Hannah        10.0       416.0   \n",
       "1487 2024-02-08  South  Tablet      Hannah         1.0      1433.0   \n",
       "1660 2024-01-31  South  Tablet      Hannah         9.0      1178.0   \n",
       "\n",
       "         Category  Revenue          Cost       Profit  \n",
       "34    Electronics      NaN           NaN          NaN  \n",
       "181   Electronics  25909.0  16304.490252  9604.509748  \n",
       "302   Electronics   1149.0   1008.758035   140.241965  \n",
       "459   Electronics   6690.0   4300.285379  2389.714621  \n",
       "920   Electronics   7650.0   5737.303520  1912.696480  \n",
       "925   Electronics  12034.0   8252.332870  3781.667130  \n",
       "1034  Electronics   6930.0   4441.922641  2488.077359  \n",
       "1060  Electronics  14470.0  11829.822600  2640.177400  \n",
       "1085  Electronics  10465.0   8327.521805  2137.478195  \n",
       "1293  Electronics   4160.0   2624.312354  1535.687646  \n",
       "1487  Electronics   1433.0   1230.281306   202.718694  \n",
       "1660  Electronics  10602.0   7057.452941  3544.547059  "
      ],
      "text/html": [
       "<div>\n",
       "<style scoped>\n",
       "    .dataframe tbody tr th:only-of-type {\n",
       "        vertical-align: middle;\n",
       "    }\n",
       "\n",
       "    .dataframe tbody tr th {\n",
       "        vertical-align: top;\n",
       "    }\n",
       "\n",
       "    .dataframe thead th {\n",
       "        text-align: right;\n",
       "    }\n",
       "</style>\n",
       "<table border=\"1\" class=\"dataframe\">\n",
       "  <thead>\n",
       "    <tr style=\"text-align: right;\">\n",
       "      <th></th>\n",
       "      <th>Date</th>\n",
       "      <th>Region</th>\n",
       "      <th>Product</th>\n",
       "      <th>Salesperson</th>\n",
       "      <th>Units_Sold</th>\n",
       "      <th>Unit_Price</th>\n",
       "      <th>Category</th>\n",
       "      <th>Revenue</th>\n",
       "      <th>Cost</th>\n",
       "      <th>Profit</th>\n",
       "    </tr>\n",
       "  </thead>\n",
       "  <tbody>\n",
       "    <tr>\n",
       "      <th>34</th>\n",
       "      <td>2024-07-08</td>\n",
       "      <td>South</td>\n",
       "      <td>Tablet</td>\n",
       "      <td>Hannah</td>\n",
       "      <td>0.0</td>\n",
       "      <td>387.0</td>\n",
       "      <td>Electronics</td>\n",
       "      <td>NaN</td>\n",
       "      <td>NaN</td>\n",
       "      <td>NaN</td>\n",
       "    </tr>\n",
       "    <tr>\n",
       "      <th>181</th>\n",
       "      <td>2024-07-16</td>\n",
       "      <td>South</td>\n",
       "      <td>Tablet</td>\n",
       "      <td>Hannah</td>\n",
       "      <td>13.0</td>\n",
       "      <td>1993.0</td>\n",
       "      <td>Electronics</td>\n",
       "      <td>25909.0</td>\n",
       "      <td>16304.490252</td>\n",
       "      <td>9604.509748</td>\n",
       "    </tr>\n",
       "    <tr>\n",
       "      <th>302</th>\n",
       "      <td>2024-10-30</td>\n",
       "      <td>South</td>\n",
       "      <td>Tablet</td>\n",
       "      <td>Hannah</td>\n",
       "      <td>3.0</td>\n",
       "      <td>383.0</td>\n",
       "      <td>Electronics</td>\n",
       "      <td>1149.0</td>\n",
       "      <td>1008.758035</td>\n",
       "      <td>140.241965</td>\n",
       "    </tr>\n",
       "    <tr>\n",
       "      <th>459</th>\n",
       "      <td>2024-03-09</td>\n",
       "      <td>South</td>\n",
       "      <td>Tablet</td>\n",
       "      <td>Hannah</td>\n",
       "      <td>6.0</td>\n",
       "      <td>1115.0</td>\n",
       "      <td>Electronics</td>\n",
       "      <td>6690.0</td>\n",
       "      <td>4300.285379</td>\n",
       "      <td>2389.714621</td>\n",
       "    </tr>\n",
       "    <tr>\n",
       "      <th>920</th>\n",
       "      <td>2024-01-25</td>\n",
       "      <td>South</td>\n",
       "      <td>Tablet</td>\n",
       "      <td>Hannah</td>\n",
       "      <td>9.0</td>\n",
       "      <td>850.0</td>\n",
       "      <td>Electronics</td>\n",
       "      <td>7650.0</td>\n",
       "      <td>5737.303520</td>\n",
       "      <td>1912.696480</td>\n",
       "    </tr>\n",
       "    <tr>\n",
       "      <th>925</th>\n",
       "      <td>2024-05-25</td>\n",
       "      <td>South</td>\n",
       "      <td>Tablet</td>\n",
       "      <td>Hannah</td>\n",
       "      <td>11.0</td>\n",
       "      <td>1094.0</td>\n",
       "      <td>Electronics</td>\n",
       "      <td>12034.0</td>\n",
       "      <td>8252.332870</td>\n",
       "      <td>3781.667130</td>\n",
       "    </tr>\n",
       "    <tr>\n",
       "      <th>1034</th>\n",
       "      <td>2024-11-15</td>\n",
       "      <td>South</td>\n",
       "      <td>Tablet</td>\n",
       "      <td>Hannah</td>\n",
       "      <td>10.0</td>\n",
       "      <td>693.0</td>\n",
       "      <td>Electronics</td>\n",
       "      <td>6930.0</td>\n",
       "      <td>4441.922641</td>\n",
       "      <td>2488.077359</td>\n",
       "    </tr>\n",
       "    <tr>\n",
       "      <th>1060</th>\n",
       "      <td>2024-10-14</td>\n",
       "      <td>South</td>\n",
       "      <td>Tablet</td>\n",
       "      <td>Hannah</td>\n",
       "      <td>10.0</td>\n",
       "      <td>1447.0</td>\n",
       "      <td>Electronics</td>\n",
       "      <td>14470.0</td>\n",
       "      <td>11829.822600</td>\n",
       "      <td>2640.177400</td>\n",
       "    </tr>\n",
       "    <tr>\n",
       "      <th>1085</th>\n",
       "      <td>2024-02-07</td>\n",
       "      <td>South</td>\n",
       "      <td>Tablet</td>\n",
       "      <td>Hannah</td>\n",
       "      <td>13.0</td>\n",
       "      <td>805.0</td>\n",
       "      <td>Electronics</td>\n",
       "      <td>10465.0</td>\n",
       "      <td>8327.521805</td>\n",
       "      <td>2137.478195</td>\n",
       "    </tr>\n",
       "    <tr>\n",
       "      <th>1293</th>\n",
       "      <td>2024-10-29</td>\n",
       "      <td>South</td>\n",
       "      <td>Tablet</td>\n",
       "      <td>Hannah</td>\n",
       "      <td>10.0</td>\n",
       "      <td>416.0</td>\n",
       "      <td>Electronics</td>\n",
       "      <td>4160.0</td>\n",
       "      <td>2624.312354</td>\n",
       "      <td>1535.687646</td>\n",
       "    </tr>\n",
       "    <tr>\n",
       "      <th>1487</th>\n",
       "      <td>2024-02-08</td>\n",
       "      <td>South</td>\n",
       "      <td>Tablet</td>\n",
       "      <td>Hannah</td>\n",
       "      <td>1.0</td>\n",
       "      <td>1433.0</td>\n",
       "      <td>Electronics</td>\n",
       "      <td>1433.0</td>\n",
       "      <td>1230.281306</td>\n",
       "      <td>202.718694</td>\n",
       "    </tr>\n",
       "    <tr>\n",
       "      <th>1660</th>\n",
       "      <td>2024-01-31</td>\n",
       "      <td>South</td>\n",
       "      <td>Tablet</td>\n",
       "      <td>Hannah</td>\n",
       "      <td>9.0</td>\n",
       "      <td>1178.0</td>\n",
       "      <td>Electronics</td>\n",
       "      <td>10602.0</td>\n",
       "      <td>7057.452941</td>\n",
       "      <td>3544.547059</td>\n",
       "    </tr>\n",
       "  </tbody>\n",
       "</table>\n",
       "</div>"
      ]
     },
     "execution_count": 63,
     "metadata": {},
     "output_type": "execute_result"
    }
   ],
   "execution_count": 63
  }
 ],
 "metadata": {
  "kernelspec": {
   "display_name": ".venv",
   "language": "python",
   "name": "python3"
  },
  "language_info": {
   "codemirror_mode": {
    "name": "ipython",
    "version": 3
   },
   "file_extension": ".py",
   "mimetype": "text/x-python",
   "name": "python",
   "nbconvert_exporter": "python",
   "pygments_lexer": "ipython3",
   "version": "3.13.5"
  }
 },
 "nbformat": 4,
 "nbformat_minor": 5
}
